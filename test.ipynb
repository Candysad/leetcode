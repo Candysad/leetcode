{
 "cells": [
  {
   "cell_type": "code",
   "execution_count": 2,
   "metadata": {},
   "outputs": [
    {
     "data": {
      "text/plain": [
       "[3, 2, 1]"
      ]
     },
     "execution_count": 2,
     "metadata": {},
     "output_type": "execute_result"
    }
   ],
   "source": [
    "a = [1,2,3]\n",
    "a.reverse()\n",
    "a"
   ]
  },
  {
   "cell_type": "code",
   "execution_count": 3,
   "metadata": {},
   "outputs": [],
   "source": [
    "from math import inf # 最大距离inf，指代无穷远\n",
    "\n",
    "\n",
    "def dijkstra(edge, start:int):\n",
    "    '''\n",
    "    edge 边信息\n",
    "    start 起点\n",
    "    '''\n",
    "    n            = len(edge)     # 节点数\n",
    "    unvis        = [1] * n       # 未遍历为1，已遍历为0\n",
    "    dis          = [inf] * n     # 初始距离\n",
    "    dis[start]   = 0             # 起点到自己距离为 0\n",
    "    \n",
    "    # 暴力循环\n",
    "    while any(unvis): # 可以改为n次遍历\n",
    "        # 找当前距离起点最短的为未遍历点\n",
    "        now = -1\n",
    "        for node in range(n):\n",
    "            if unvis[node] and (now == -1 or dis[node] < dis[now]):\n",
    "                now = node\n",
    "        unvis[now] = 0 # 当前最近未遍历点改为已遍历\n",
    "        print(now)\n",
    "        print(unvis)\n",
    "        print(dis)\n",
    "        print('\\n')\n",
    "        \n",
    "        # 从该点出发更新起点到其余点的距离\n",
    "        for j in range(n):\n",
    "            if dis[now] + edge[now][j] < dis[j]:\n",
    "                dis[j] = dis[now] + edge[now][j]\n",
    "    '''\n",
    "    第一次遍历只有起点可到达\n",
    "    起点更新自己能到达的其他点的距离后开始遍历得到最短路径\n",
    "    '''\n",
    "    \n",
    "    return dis"
   ]
  },
  {
   "cell_type": "code",
   "execution_count": 4,
   "metadata": {},
   "outputs": [
    {
     "name": "stdout",
     "output_type": "stream",
     "text": [
      "0\n",
      "[0, 1, 1, 1]\n",
      "[0, inf, inf, inf]\n",
      "\n",
      "\n",
      "1\n",
      "[0, 0, 1, 1]\n",
      "[0, 1, 100, 300]\n",
      "\n",
      "\n",
      "2\n",
      "[0, 0, 0, 1]\n",
      "[0, 1, 3, 4]\n",
      "\n",
      "\n",
      "3\n",
      "[0, 0, 0, 0]\n",
      "[0, 1, 3, 4]\n",
      "\n",
      "\n"
     ]
    },
    {
     "data": {
      "text/plain": [
       "[0, 1, 3, 4]"
      ]
     },
     "execution_count": 4,
     "metadata": {},
     "output_type": "execute_result"
    }
   ],
   "source": [
    "edge = [\n",
    "    [0, 1, 100, 300],\n",
    "    [3, 0, 2, 3],\n",
    "    [3, 3, 0, 20],\n",
    "    [300, 300, 3, 0]\n",
    "]\n",
    "\n",
    "\n",
    "dijkstra(edge,0)"
   ]
  },
  {
   "cell_type": "code",
   "execution_count": 7,
   "metadata": {},
   "outputs": [],
   "source": [
    "from math import inf # 最大距离inf，指代无穷远\n",
    "from heapq import *\n",
    "\n",
    "\n",
    "def dijkstra(edge:List[List[int]], start:int):\n",
    "    '''\n",
    "    优先队列\n",
    "    '''\n",
    "    n            = len(edge)     # 节点数\n",
    "    dis          = [inf] * n     # 初始距离\n",
    "    dis[start]   = 0             # 起点到自己距离为 0\n",
    "    \n",
    "    # 优先队列\n",
    "    queue = [(0, start)] # 起点\n",
    "                         # 队列元素值为起点过来的新的距离，额外信息为目标点\n",
    "    while queue:\n",
    "        t, u = heappop(queue) # edge[u][v] u→v\n",
    "        if t > dis[u]:\n",
    "            continue\n",
    "        \n",
    "        for v in range(n):\n",
    "            w = edge[u][v]\n",
    "            if t + w < dis[v]:\n",
    "                dis[v] = t + w\n",
    "                heappush(queue, (t+w, v))\n",
    "    return dis"
   ]
  },
  {
   "cell_type": "code",
   "execution_count": 8,
   "metadata": {},
   "outputs": [
    {
     "data": {
      "text/plain": [
       "[0, 1, 3, 4]"
      ]
     },
     "execution_count": 8,
     "metadata": {},
     "output_type": "execute_result"
    }
   ],
   "source": [
    "edge = [\n",
    "    [0, 1, 100, 300],\n",
    "    [3, 0, 2, 3],\n",
    "    [3, 3, 0, 20],\n",
    "    [300, 300, 3, 0]\n",
    "]\n",
    "\n",
    "\n",
    "dijkstra(edge,0)"
   ]
  },
  {
   "cell_type": "code",
   "execution_count": null,
   "metadata": {},
   "outputs": [],
   "source": []
  }
 ],
 "metadata": {
  "kernelspec": {
   "display_name": "Python 3",
   "language": "python",
   "name": "python3"
  },
  "language_info": {
   "codemirror_mode": {
    "name": "ipython",
    "version": 3
   },
   "file_extension": ".py",
   "mimetype": "text/x-python",
   "name": "python",
   "nbconvert_exporter": "python",
   "pygments_lexer": "ipython3",
   "version": "3.11.4"
  }
 },
 "nbformat": 4,
 "nbformat_minor": 2
}
